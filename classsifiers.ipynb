{
 "cells": [
  {
   "cell_type": "code",
   "execution_count": null,
   "metadata": {},
   "outputs": [],
   "source": [
    "import matplotlib.pyplot as plt\n",
    "from torch.utils.data import DataLoader\n",
    "from utils import train_classifier, plot_images\n",
    "from datasets import load_nist_data\n",
    "from architectures import LeNet5, ResNet18, ResNet34"
   ]
  },
  {
   "cell_type": "code",
   "execution_count": null,
   "metadata": {},
   "outputs": [],
   "source": [
    "dataname = 'MNIST'\n",
    "train_dataset = load_nist_data(dataset=dataname, binary_threshold=0.5, train=True)\n",
    "test_dataset = load_nist_data(dataset=dataname, binary_threshold=0.5, train=False)\n",
    "\n",
    "train_dataloader = DataLoader(train_dataset , batch_size=64, shuffle=True)\n",
    "test_dataloader = DataLoader(test_dataset , batch_size=64, shuffle=False)\n",
    "images, _ = next(iter(train_dataloader))\n",
    "\n",
    "plot_images(images, dataname, figsize=(3.5, 3.5))\n",
    "\n",
    "#...train classifier\n",
    "\n",
    "model = LeNet5(num_classes=10) \n",
    "train_classifier(model, \n",
    "                 train_dataloader, \n",
    "                 test_dataloader,\n",
    "                 accuracy_goal=98.5,\n",
    "                 save_as='models/model_{}_LeNet5.pth'.format('_'.join(dataname.split(' '))), \n",
    "                 epochs=100, \n",
    "                 lr=0.001)\n"
   ]
  },
  {
   "cell_type": "code",
   "execution_count": null,
   "metadata": {},
   "outputs": [],
   "source": [
    "dataname = 'EMNIST Letters'\n",
    "train_dataset = load_nist_data(dataset=dataname, binary_threshold=0.5, train=True)\n",
    "test_dataset = load_nist_data(dataset=dataname, binary_threshold=0.5, train=False)\n",
    "\n",
    "train_dataloader = DataLoader(train_dataset , batch_size=256, shuffle=True)\n",
    "test_dataloader = DataLoader(test_dataset , batch_size=256, shuffle=False)\n",
    "images, _ = next(iter(train_dataloader))\n",
    "\n",
    "plot_images(images, dataname, figsize=(3.5, 3.5))\n",
    "\n",
    "#...train classifier\n",
    "\n",
    "model = ResNet18(num_classes=27) \n",
    "train_classifier(model, \n",
    "                 train_dataloader, \n",
    "                 test_dataloader,\n",
    "                 accuracy_goal=95,\n",
    "                 save_as='models/model_{}_ResNet18.pth'.format('_'.join(dataname.split(' '))), \n",
    "                 epochs=100, \n",
    "                 lr=0.001)"
   ]
  },
  {
   "cell_type": "code",
   "execution_count": null,
   "metadata": {},
   "outputs": [],
   "source": [
    "dataname = 'FashionMNIST'\n",
    "\n",
    "train_dataset = load_nist_data(dataset=dataname, binary_threshold=None, train=True)\n",
    "test_dataset = load_nist_data(dataset=dataname, binary_threshold=None, train=False)\n",
    "\n",
    "train_dataloader = DataLoader(train_dataset , batch_size=128, shuffle=True)\n",
    "test_dataloader = DataLoader(test_dataset , batch_size=64, shuffle=False)\n",
    "images, _ = next(iter(train_dataloader))\n",
    "\n",
    "plot_images(images, dataname, figsize=(3.5, 3.5))\n",
    "\n",
    "#...train classifier\n",
    "\n",
    "model =  ResNet34(num_classes=10) \n",
    "train_classifier(model, \n",
    "                 train_dataloader, \n",
    "                 test_dataloader,\n",
    "                 accuracy_goal=95,\n",
    "                 save_as='model_{}_ResNet34.pth'.format('_'.join(dataname.split(' '))), \n",
    "                 epochs=100, \n",
    "                 lr=0.001)"
   ]
  },
  {
   "cell_type": "code",
   "execution_count": null,
   "metadata": {},
   "outputs": [],
   "source": []
  }
 ],
 "metadata": {
  "kernelspec": {
   "display_name": "base",
   "language": "python",
   "name": "python3"
  },
  "language_info": {
   "codemirror_mode": {
    "name": "ipython",
    "version": 3
   },
   "file_extension": ".py",
   "mimetype": "text/x-python",
   "name": "python",
   "nbconvert_exporter": "python",
   "pygments_lexer": "ipython3",
   "version": "3.10.9"
  },
  "orig_nbformat": 4
 },
 "nbformat": 4,
 "nbformat_minor": 2
}
